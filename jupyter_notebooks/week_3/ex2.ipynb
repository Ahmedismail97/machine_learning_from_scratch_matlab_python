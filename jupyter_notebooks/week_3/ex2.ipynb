{
 "cells": [
  {
   "cell_type": "markdown",
   "metadata": {},
   "source": [
    "# Exercise 2: Logistic Regression"
   ]
  },
  {
   "cell_type": "code",
   "execution_count": 5,
   "metadata": {
    "collapsed": false
   },
   "outputs": [],
   "source": [
    "import sys\n",
    "# needed modules\n",
    "path_to_modules = '../../algorithms_in_python/week_3/ex2/'\n",
    "sys.path.append(path_to_modules)\n",
    "\n",
    "from gradient import gradient\n",
    "from sigmoid import sigmoid\n",
    "from predict import predict\n",
    "from plotDecisionBoundary import plotDecisionBoundary\n",
    "from costFunction import costFunction\n",
    "from plotData import plotData\n",
    "\n",
    "import scipy.optimize as op\n",
    "import matplotlib.pyplot as plt\n",
    "import numpy as np"
   ]
  },
  {
   "cell_type": "markdown",
   "metadata": {},
   "source": [
    "## Load Data\n",
    " The first two columns contains the exam scores and the third column\n",
    " contains the label.\n",
    "\n"
   ]
  },
  {
   "cell_type": "code",
   "execution_count": 6,
   "metadata": {
    "collapsed": false
   },
   "outputs": [],
   "source": [
    "data = np.loadtxt(path_to_modules + 'ex2data1.txt', delimiter =\",\")\n",
    "\n",
    "X = data[:, 0:2] #x refers to the population size in 10,000s\n",
    "y = data[:, 2] #y refers to the profit in $10,000s\n",
    "\n",
    "m = y.size #umber of training examples\n",
    "\n",
    "y = y.reshape((m,1))"
   ]
  },
  {
   "cell_type": "markdown",
   "metadata": {},
   "source": [
    "## Part 1: Plotting\n",
    "We start the exercise by first plotting the data to understand the \n",
    "  the problem we are working with."
   ]
  },
  {
   "cell_type": "code",
   "execution_count": 7,
   "metadata": {
    "collapsed": false
   },
   "outputs": [
    {
     "name": "stdout",
     "output_type": "stream",
     "text": [
      "Plotting data with + indicating (y = 1) examples and o indicating (y = 0) examples.\n"
     ]
    },
    {
     "data": {
      "image/png": "[encoded data removed]",
      "text/plain": [
       "<matplotlib.figure.Figure at 0x1d6aa569780>"
      ]
     },
     "metadata": {},
     "output_type": "display_data"
    }
   ],
   "source": [
    "#scatter plot\n",
    "print(\"Plotting data with + indicating (y = 1) examples and o indicating (y = 0) examples.\")\n",
    "\n",
    "line_pos, line_neg = plotData(X, y, \"Exam 1\",\"Exam 2\", \"Admitted\",\"Not Admitted\")\n",
    "\n",
    "plt.legend(handles=[line_pos,line_neg])\n",
    "\n",
    "plt.show(block=False)"
   ]
  },
  {
   "cell_type": "markdown",
   "metadata": {},
   "source": [
    "## Part 2: Compute Cost and Gradient"
   ]
  },
  {
   "cell_type": "code",
   "execution_count": 8,
   "metadata": {
    "collapsed": false
   },
   "outputs": [
    {
     "name": "stdout",
     "output_type": "stream",
     "text": [
      "Cost at initial theta (zeros):  0.69314718056 \n",
      "\n",
      "Expected cost (approx): 0.693\n",
      "\n",
      "Gradient at initial theta (zeros): \n",
      "\n",
      "[[ -0.1       ]\n",
      " [-12.00921659]\n",
      " [-11.26284221]]\n",
      "Expected gradients (approx):\n",
      " -0.1000\n",
      " -12.0092\n",
      " -11.2628\n",
      "\n",
      "\n",
      "Cost at test theta: 0.218330193827 \n",
      "\n",
      "Expected cost (approx): 0.218\n",
      "\n",
      "Gradient at test theta: \n",
      "\n",
      "[[ 0.04290299]\n",
      " [ 2.56623412]\n",
      " [ 2.64679737]]\n",
      "Expected gradients (approx):\n",
      " 0.043\n",
      " 2.566\n",
      " 2.647\n",
      "\n"
     ]
    }
   ],
   "source": [
    "#  Setup the data matrix appropriately, and add ones for the intercept term\n",
    "m, n = X.shape\n",
    "\n",
    "#Add intercept term to x and X_test\n",
    "X = np.c_[np.ones((m, 1)), X]\n",
    "\n",
    "#Initialize fitting parameters\n",
    "initial_theta = np.zeros((n + 1, 1))\n",
    "\n",
    "#Compute and display initial cost and gradient\n",
    "cost, grad = costFunction(initial_theta, X, y), gradient(initial_theta, X, y)\n",
    "\n",
    "print(\"Cost at initial theta (zeros): \", cost, \"\\n\")\n",
    "print(\"Expected cost (approx): 0.693\\n\")\n",
    "print('Gradient at initial theta (zeros): \\n')\n",
    "print(grad)\n",
    "print(\"Expected gradients (approx):\\n -0.1000\\n -12.0092\\n -11.2628\\n\")\n",
    "\n",
    "#Compute and display cost and gradient with non-zero theta\n",
    "test_theta = np.array([[-24], [0.2], [0.2]])\n",
    "cost, grad = costFunction(test_theta, X, y), gradient(test_theta, X, y)\n",
    "\n",
    "print(\"\\nCost at test theta:\", cost, \"\\n\")\n",
    "print(\"Expected cost (approx): 0.218\\n\")\n",
    "print(\"Gradient at test theta: \\n\")\n",
    "print(grad)\n",
    "print(\"Expected gradients (approx):\\n 0.043\\n 2.566\\n 2.647\\n\")"
   ]
  },
  {
   "cell_type": "markdown",
   "metadata": {},
   "source": [
    "## Part 3: Optimizing using  scipy.optimize (equivalent to fminunc in matlab)"
   ]
  },
  {
   "cell_type": "code",
   "execution_count": 10,
   "metadata": {
    "collapsed": false
   },
   "outputs": [
    {
     "name": "stdout",
     "output_type": "stream",
     "text": [
      "optimal theta [-25.1613187    0.20623159   0.20147149]\n"
     ]
    },
    {
     "data": {
      "image/png": "[encoded data removed]",
      "text/plain": [
       "<matplotlib.figure.Figure at 0x1d6aaf6de48>"
      ]
     },
     "metadata": {},
     "output_type": "display_data"
    }
   ],
   "source": [
    "Result = op.minimize(fun = costFunction, x0 = initial_theta, args = (X, y), method = 'TNC', jac = gradient)\n",
    "optimal_theta = Result.x\n",
    "\n",
    "print(\"optimal theta\", optimal_theta)\n",
    "\n",
    "#Plot Boundary\n",
    "boundary_line = plotDecisionBoundary(optimal_theta, X, y)\n",
    "\n",
    "plt.legend(handles=[line_pos,line_neg, boundary_line])\n",
    "\n",
    "plt.show(block=False)"
   ]
  },
  {
   "cell_type": "markdown",
   "metadata": {},
   "source": [
    "## Part 4: Predict and Accuracies \n",
    "  After learning the parameters, you'll like to use it to predict the outcomes\n",
    "  on unseen data. In this part, you will use the logistic regression model\n",
    "  to predict the probability that a student with score 45 on exam 1 and \n",
    "  score 85 on exam 2 will be admitted.\n",
    "\n",
    "  Furthermore, you will compute the training and test set accuracies of \n",
    "  our model.\n",
    "\n",
    "  Predict probability for a student with score 45 on exam 1 \n",
    "  and score 85 on exam 2"
   ]
  },
  {
   "cell_type": "code",
   "execution_count": 11,
   "metadata": {
    "collapsed": false
   },
   "outputs": [
    {
     "name": "stdout",
     "output_type": "stream",
     "text": [
      "For a student with scores 45 and 85, we predict an admission probability of f\n",
      " [ 0.77629062]\n",
      "Expected value: 0.775 +/- 0.002\n",
      "\n",
      "\n",
      "Train Accuracy:  89.0\n",
      "Expected accuracy (approx): 89.0\n",
      "\n",
      "\n",
      "\n"
     ]
    }
   ],
   "source": [
    "theta  = optimal_theta\n",
    "\n",
    "prob = sigmoid(np.dot(np.array([[1, 45, 85]]), theta))\n",
    "print(\"For a student with scores 45 and 85, we predict an admission probability of f\\n\", prob)\n",
    "print(\"Expected value: 0.775 +/- 0.002\\n\\n\")\n",
    "\n",
    "#Compute accuracy on our training set\n",
    "p = predict(theta, X)\n",
    "y = y.reshape((m))\n",
    "\n",
    "print(\"Train Accuracy: \",np.multiply(np.mean((p == y).astype(int)), 100))\n",
    "print(\"Expected accuracy (approx): 89.0\\n\")\n",
    "print(\"\\n\")"
   ]
  }
 ],
 "metadata": {
  "anaconda-cloud": {},
  "kernelspec": {
   "display_name": "Python [default]",
   "language": "python",
   "name": "python3"
  },
  "language_info": {
   "codemirror_mode": {
    "name": "ipython",
    "version": 3
   },
   "file_extension": ".py",
   "mimetype": "text/x-python",
   "name": "python",
   "nbconvert_exporter": "python",
   "pygments_lexer": "ipython3",
   "version": "3.5.2"
  }
 },
 "nbformat": 4,
 "nbformat_minor": 1
}
